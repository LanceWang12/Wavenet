{
 "cells": [
  {
   "cell_type": "code",
   "execution_count": 2,
   "metadata": {},
   "outputs": [
    {
     "name": "stderr",
     "output_type": "stream",
     "text": [
      "/usr/local/lib/python3.6/site-packages/pandas/compat/__init__.py:117: UserWarning: Could not import the lzma module. Your installed Python is incomplete. Attempting to use lzma compression will result in a RuntimeError.\n",
      "  warnings.warn(msg)\n"
     ]
    }
   ],
   "source": [
    "import numpy as np\n",
    "import pandas as pd\n",
    "import talib\n",
    "from talib import abstract\n",
    "import matplotlib.pyplot as plt"
   ]
  },
  {
   "cell_type": "markdown",
   "metadata": {},
   "source": [
    "# 整理 maingroup_raw.csv "
   ]
  },
  {
   "cell_type": "code",
   "execution_count": null,
   "metadata": {},
   "outputs": [],
   "source": [
    "maingroup = pd.read_csv('maingroup_raw.csv')  \n",
    "a = maingroup[['tmp_index_ts_value_20200430_henry.index_nm', 'tmp_index_ts_value_20200430_henry.tx_dt', 'tmp_index_ts_value_20200430_henry.close']]\n",
    "a = a.sort_values(by = 'tmp_index_ts_value_20200430_henry.tx_dt').reset_index(drop = True)\n",
    "a.columns = ['name', 'tx_dt', 'close']\n",
    "a\n",
    "a.to_csv('maingroup.csv', index = False)"
   ]
  },
  {
   "cell_type": "markdown",
   "metadata": {},
   "source": [
    "# 整理 eco_data_raw.csv"
   ]
  },
  {
   "cell_type": "code",
   "execution_count": null,
   "metadata": {},
   "outputs": [],
   "source": [
    "# 經濟指標\n",
    "eco_df = pd.read_csv('eco_data.csv')  \n",
    "index_name = np.unique(eco_df[NAME])\n",
    "eco_idx_drop_lst = []\n",
    "for name in index_name:\n",
    "    num = np.sum(np.array(eco_df[eco_df[NAME] == name].isna()))\n",
    "    if num:\n",
    "        eco_idx_drop_lst.append(name)\n",
    "\n",
    "# 刪除過多 nan 的經濟指標\n",
    "eco_df.drop(index = np.where(eco_df[NAME].isin(eco_idx_drop_lst))[0], inplace = True)\n",
    "eco_df.reset_index(drop = True, inplace = True)\n",
    "eco_df.to_csv('eco_data.csv', index = False)"
   ]
  },
  {
   "cell_type": "markdown",
   "metadata": {},
   "source": [
    "# Feature engineering"
   ]
  },
  {
   "cell_type": "code",
   "execution_count": 3,
   "metadata": {},
   "outputs": [],
   "source": [
    "def feature_engineering(market_name, maingroup, eco_df, NAME = 'name', TXDT = 'tx_dt', OPEN = 'open', HIGH = 'high', LOW = 'low', CLOSE = 'close'):\n",
    "    # ---------------Parameter---------------\n",
    "    # | market_name: 目標分析市場名字          |\n",
    "    # | maingroup: 含所有市場資料的 dataframe  |\n",
    "    # | eco_df: 含所有經濟指標的 dataframe     |\n",
    "    # | ...                                 |\n",
    "    # ---------------------------------------\n",
    "    \n",
    "    # Ta_lib\n",
    "    talib_func_list = talib.get_functions()\n",
    "\n",
    "    # 生成目標市場之經濟指標\n",
    "\n",
    "    target_df = maingroup[maingroup[NAME] == market_name][[TXDT, CLOSE]]\n",
    "    target_df.sort_values(by = TXDT, inplace = True)\n",
    "    target_df.reset_index(drop = True, inplace = True)\n",
    "    target_df\n",
    "\n",
    "    for ta_func in talib_func_list:\n",
    "        try:\n",
    "            new_feature = eval('abstract.' + ta_func + '(target_df, timeperiod=22)')\n",
    "            target_df[ta_func + '_' + market_name] = new_feature\n",
    "        except:\n",
    "            continue\n",
    "\n",
    "    # ---------------------------------------------------\n",
    "\n",
    "    # 生成經濟指標與其技術指標\n",
    "    # 產生第一個\n",
    "    eco_name_lst = np.unique(eco_df[NAME])\n",
    "    name = eco_name_lst[0]\n",
    "    total_eco = eco_df[eco_df[NAME] == name][[TXDT, OPEN, HIGH, LOW, CLOSE]]\n",
    "    for ta_func in talib_func_list:\n",
    "        try:\n",
    "            new_feature = eval('abstract.' + ta_func + '(total_eco, timeperiod=22)')\n",
    "            total_eco[ta_func + '_' + name] = new_feature\n",
    "        except:\n",
    "            continue\n",
    "\n",
    "    col_name = []\n",
    "    for i in range(1, total_eco.columns.shape[0]):\n",
    "        col_name.append(total_eco.columns[i] + '_' + name)\n",
    "    total_eco.columns = [TXDT] + col_name\n",
    "\n",
    "    # Start...\n",
    "    for name in eco_name_lst[1: ]:\n",
    "        target_eco = eco_df[eco_df[NAME] == name][[TXDT, OPEN, HIGH, LOW, CLOSE]]\n",
    "\n",
    "        for ta_func in talib_func_list:\n",
    "            try:\n",
    "                new_feature = eval('abstract.' + ta_func + '(target_eco, timeperiod=22)')\n",
    "                target_eco[ta_func + '_' + name] = new_feature\n",
    "            except:\n",
    "                continue\n",
    "\n",
    "        col_name = []\n",
    "        for i in range(1, target_eco.columns.shape[0]):\n",
    "            col_name.append(target_eco.columns[i] + '_' + name)\n",
    "        target_eco.columns = [TXDT] + col_name\n",
    "\n",
    "        total_eco = pd.merge(total_eco, target_eco, on = TXDT)\n",
    "\n",
    "    # Concat 目標市場 與 經濟指標\n",
    "    Total_df = pd.merge(target_df, total_eco, on = TXDT)\n",
    "    \n",
    "    return Total_df"
   ]
  },
  {
   "cell_type": "code",
   "execution_count": 4,
   "metadata": {},
   "outputs": [],
   "source": [
    "maingroup = pd.read_csv('maingroup.csv')\n",
    "eco_df = pd.read_csv('eco_data.csv')"
   ]
  },
  {
   "cell_type": "code",
   "execution_count": 7,
   "metadata": {},
   "outputs": [
    {
     "name": "stdout",
     "output_type": "stream",
     "text": [
      "(3821, 2069)\n"
     ]
    }
   ],
   "source": [
    "total_df = feature_engineering(market_name = 'MSCI China NET TOTAL RETURN LOCAL',\n",
    "                               maingroup = maingroup, eco_df = eco_df)\n",
    "print(total_df.shape)"
   ]
  },
  {
   "cell_type": "code",
   "execution_count": 15,
   "metadata": {},
   "outputs": [
    {
     "data": {
      "text/plain": [
       "112939"
      ]
     },
     "execution_count": 15,
     "metadata": {},
     "output_type": "execute_result"
    }
   ],
   "source": [
    "np.isnan(np.array(total_df.drop(columns = ['tx_dt']))).sum()"
   ]
  },
  {
   "cell_type": "code",
   "execution_count": null,
   "metadata": {},
   "outputs": [],
   "source": []
  }
 ],
 "metadata": {
  "kernelspec": {
   "display_name": "Python 3",
   "language": "python",
   "name": "python3"
  },
  "language_info": {
   "codemirror_mode": {
    "name": "ipython",
    "version": 3
   },
   "file_extension": ".py",
   "mimetype": "text/x-python",
   "name": "python",
   "nbconvert_exporter": "python",
   "pygments_lexer": "ipython3",
   "version": "3.6.8"
  }
 },
 "nbformat": 4,
 "nbformat_minor": 4
}
