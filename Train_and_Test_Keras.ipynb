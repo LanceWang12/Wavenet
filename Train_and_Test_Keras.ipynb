{
 "cells": [
  {
   "cell_type": "code",
   "execution_count": 1,
   "metadata": {
    "scrolled": true
   },
   "outputs": [],
   "source": [
    "from header.Keras.Wavenet_model import Wavenet\n",
    "from header.Keras.dataset import generate_data\n",
    "from header.Keras.train_and_test import scheduler, train_val_plot\n",
    "from tensorflow.keras.optimizers import Adam\n",
    "from tensorflow.keras.callbacks import LearningRateScheduler, EarlyStopping, ModelCheckpoint\n",
    "from tensorflow.keras.models import load_model\n",
    "from tensorflow.random import uniform\n",
    "import tensorflow as tf\n",
    "tf.keras.backend.set_floatx('float64')\n",
    "\n",
    "from sklearn.metrics import classification_report\n",
    "import pandas as pd\n",
    "import numpy as np\n",
    "import time\n",
    "import glob\n",
    "import os"
   ]
  },
  {
   "cell_type": "code",
   "execution_count": 2,
   "metadata": {},
   "outputs": [],
   "source": []
  },
  {
   "cell_type": "markdown",
   "metadata": {},
   "source": [
    "# Prepare data\n",
    "1. input_shape = (batch_size, time_step, feature_num)"
   ]
  },
  {
   "cell_type": "code",
   "execution_count": 3,
   "metadata": {},
   "outputs": [
    {
     "name": "stdout",
     "output_type": "stream",
     "text": [
      "(3115, 44, 103) (3115, 1)\n",
      "Train the model from 2005-10-21 to 2017-09-28.\n",
      "\n",
      "(551, 44, 103) (551, 1)\n",
      "Test the model from 2018-01-01 to 2020-02-25.\n"
     ]
    }
   ],
   "source": [
    "# Read data\n",
    "lag = 44\n",
    "gap = 22\n",
    "\n",
    "label = 'label'\n",
    "date_idx = 'tmp_index_ts_value_20200430_henry.tx_dt'\n",
    "df = pd.read_csv('./csv_dataset/data_prepro_0814.csv').dropna(axis = 0).reset_index(drop = True)\n",
    "\n",
    "# --------------Training-----------------\n",
    "x_train, y_train, train_date = generate_data(df = df, label_idx = 'label',\n",
    "                                             date_idx = date_idx, lag = lag, gap = gap,\n",
    "                                             normalize_method = 'min-max',\n",
    "                                             start = None, end = '2017-09-29')\n",
    "print(x_train.shape, y_train.shape)\n",
    "print('Train the model from {} to {}.\\n'.format(train_date[0], train_date[-1]))\n",
    "\n",
    "\n",
    "# ----------------Testing----------------\n",
    "x_test, y_test, test_date = generate_data(df = df, label_idx = 'label',\n",
    "                                          date_idx = date_idx, lag = lag, gap = gap,\n",
    "                                          normalize_method = 'min-max',\n",
    "                                          start = '2017-09-29', end = None)\n",
    "print(x_test.shape, y_test.shape)\n",
    "print('Test the model from {} to {}.'.format(test_date[0], test_date[-1]))"
   ]
  },
  {
   "cell_type": "markdown",
   "metadata": {},
   "source": [
    "# Build model and training"
   ]
  },
  {
   "cell_type": "code",
   "execution_count": 4,
   "metadata": {
    "scrolled": true
   },
   "outputs": [],
   "source": [
    "model = Wavenet(time_step = 44, feature_num = 103, kernel_size = 5,\n",
    "                num_blocks = 3, num_layers = 3, output_channel = 103, reg = 0)\n",
    "\n",
    "optimizer = Adam(lr = 6e-4, beta_1 = 0.9, beta_2 = 0.999, epsilon = None, decay = 0.0, amsgrad = False)\n",
    "\n",
    "metric = 'binary_accuracy'\n",
    "model.compile(loss = 'binary_crossentropy', optimizer = optimizer, metrics = metric)\n",
    "\n",
    "# Some callbacks\n",
    "Scheduler = LearningRateScheduler(scheduler)\n",
    "Early_stopping = EarlyStopping(monitor = \"val_\" + metric, min_delta = 1e-4, patience = 30, \n",
    "                               verbose = 1, mode = \"auto\", baseline = None, \n",
    "                               restore_best_weights = False)\n",
    "\n",
    "# make keras checkpoint directory\n",
    "checkpoint_path = \"./Keras_model_ckpt/best_model.ckpt\"\n",
    "# checkpoint_dir = os.path.dirname(checkpoint_path)\n",
    "if 'Keras_model_ckpt' not in glob.glob('*'):\n",
    "    try:\n",
    "        os.mkdir(path)\n",
    "    except OSError:\n",
    "        print (\"Creation of the directory %s failed\" % path)\n",
    "    else:\n",
    "        print (\"Successfully created the directory %s \" % path)\n",
    "\n",
    "model_ckpt = ModelCheckpoint(filepath = checkpoint_path, monitor = \"val_\" + metric, verbose = 0, \n",
    "                             save_best_only = True, save_weights_only = True, \n",
    "                             mode = 'auto', save_freq = 'epoch')\n",
    "\n"
   ]
  },
  {
   "cell_type": "code",
   "execution_count": 5,
   "metadata": {},
   "outputs": [
    {
     "name": "stdout",
     "output_type": "stream",
     "text": [
      "Start to train...\n",
      "Epoch 1/40\n",
      "20/20 [==============================] - 24s 1s/step - loss: 0.6778 - binary_accuracy: 0.5040 - val_loss: 0.6879 - val_binary_accuracy: 0.5698 - lr: 5.4290e-04\n",
      "Epoch 2/40\n",
      "20/20 [==============================] - 25s 1s/step - loss: 0.6470 - binary_accuracy: 0.5441 - val_loss: 0.6874 - val_binary_accuracy: 0.5152 - lr: 4.9124e-04\n",
      "Epoch 3/40\n",
      "20/20 [==============================] - 22s 1s/step - loss: 0.6228 - binary_accuracy: 0.5766 - val_loss: 0.6910 - val_binary_accuracy: 0.5201 - lr: 4.4449e-04\n",
      "Epoch 4/40\n",
      "20/20 [==============================] - 24s 1s/step - loss: 0.5945 - binary_accuracy: 0.6023 - val_loss: 0.6960 - val_binary_accuracy: 0.5297 - lr: 4.0219e-04\n",
      "Epoch 5/40\n",
      "20/20 [==============================] - 23s 1s/step - loss: 0.5840 - binary_accuracy: 0.6083 - val_loss: 0.7006 - val_binary_accuracy: 0.4767 - lr: 3.6392e-04\n",
      "Epoch 6/40\n",
      "20/20 [==============================] - 23s 1s/step - loss: 0.5606 - binary_accuracy: 0.6300 - val_loss: 0.7010 - val_binary_accuracy: 0.5008 - lr: 3.2929e-04\n",
      "Epoch 7/40\n",
      "20/20 [==============================] - 23s 1s/step - loss: 0.5469 - binary_accuracy: 0.6372 - val_loss: 0.7162 - val_binary_accuracy: 0.5008 - lr: 2.9795e-04\n",
      "Epoch 8/40\n",
      "20/20 [==============================] - 23s 1s/step - loss: 0.5536 - binary_accuracy: 0.6437 - val_loss: 0.7349 - val_binary_accuracy: 0.4896 - lr: 2.6960e-04\n",
      "Epoch 9/40\n",
      "20/20 [==============================] - 24s 1s/step - loss: 0.5390 - binary_accuracy: 0.6433 - val_loss: 0.7688 - val_binary_accuracy: 0.4944 - lr: 2.4394e-04\n",
      "Epoch 10/40\n",
      "20/20 [==============================] - 22s 1s/step - loss: 0.5425 - binary_accuracy: 0.6425 - val_loss: 0.8277 - val_binary_accuracy: 0.4799 - lr: 2.2073e-04\n",
      "Epoch 11/40\n",
      "20/20 [==============================] - 26s 1s/step - loss: 0.5350 - binary_accuracy: 0.6517 - val_loss: 0.7301 - val_binary_accuracy: 0.5008 - lr: 1.9972e-04\n",
      "Epoch 12/40\n",
      "20/20 [==============================] - 21s 1s/step - loss: 0.5265 - binary_accuracy: 0.6605 - val_loss: 0.8331 - val_binary_accuracy: 0.4848 - lr: 1.8072e-04\n",
      "Epoch 13/40\n",
      "20/20 [==============================] - 25s 1s/step - loss: 0.5264 - binary_accuracy: 0.6505 - val_loss: 0.8599 - val_binary_accuracy: 0.5040 - lr: 1.6352e-04\n",
      "Epoch 14/40\n",
      "20/20 [==============================] - 21s 1s/step - loss: 0.5180 - binary_accuracy: 0.6814 - val_loss: 0.8315 - val_binary_accuracy: 0.4864 - lr: 1.4796e-04\n",
      "Epoch 15/40\n",
      "20/20 [==============================] - 26s 1s/step - loss: 0.5235 - binary_accuracy: 0.6637 - val_loss: 0.9791 - val_binary_accuracy: 0.4767 - lr: 1.3388e-04\n",
      "Epoch 16/40\n",
      "20/20 [==============================] - 21s 1s/step - loss: 0.5223 - binary_accuracy: 0.6625 - val_loss: 0.8514 - val_binary_accuracy: 0.4446 - lr: 1.2114e-04\n",
      "Epoch 17/40\n",
      "20/20 [==============================] - 26s 1s/step - loss: 0.5124 - binary_accuracy: 0.6798 - val_loss: 1.0129 - val_binary_accuracy: 0.4559 - lr: 1.0961e-04\n",
      "Epoch 18/40\n",
      "20/20 [==============================] - 21s 1s/step - loss: 0.5217 - binary_accuracy: 0.6689 - val_loss: 0.9779 - val_binary_accuracy: 0.4783 - lr: 9.9179e-05\n",
      "Epoch 19/40\n",
      "20/20 [==============================] - 24s 1s/step - loss: 0.5168 - binary_accuracy: 0.6782 - val_loss: 1.0344 - val_binary_accuracy: 0.4703 - lr: 8.9741e-05\n",
      "Epoch 20/40\n",
      "20/20 [==============================] - 22s 1s/step - loss: 0.5182 - binary_accuracy: 0.6738 - val_loss: 0.9851 - val_binary_accuracy: 0.4446 - lr: 8.1201e-05\n",
      "Epoch 21/40\n",
      "20/20 [==============================] - 22s 1s/step - loss: 0.5128 - binary_accuracy: 0.6750 - val_loss: 1.0905 - val_binary_accuracy: 0.4543 - lr: 7.3474e-05\n",
      "Epoch 22/40\n",
      "20/20 [==============================] - 25s 1s/step - loss: 0.5203 - binary_accuracy: 0.6653 - val_loss: 1.0265 - val_binary_accuracy: 0.4494 - lr: 6.6482e-05\n",
      "Epoch 23/40\n",
      "20/20 [==============================] - 23s 1s/step - loss: 0.5080 - binary_accuracy: 0.6858 - val_loss: 1.1703 - val_binary_accuracy: 0.4591 - lr: 6.0155e-05\n",
      "Epoch 24/40\n",
      "20/20 [==============================] - 24s 1s/step - loss: 0.5059 - binary_accuracy: 0.6902 - val_loss: 1.1405 - val_binary_accuracy: 0.4687 - lr: 5.4431e-05\n",
      "Epoch 25/40\n",
      "20/20 [==============================] - 22s 1s/step - loss: 0.5118 - binary_accuracy: 0.6762 - val_loss: 1.1785 - val_binary_accuracy: 0.4607 - lr: 4.9251e-05\n",
      "Epoch 26/40\n",
      "20/20 [==============================] - 25s 1s/step - loss: 0.5154 - binary_accuracy: 0.6701 - val_loss: 1.2007 - val_binary_accuracy: 0.4607 - lr: 4.4564e-05\n",
      "Epoch 27/40\n",
      "20/20 [==============================] - 21s 1s/step - loss: 0.5111 - binary_accuracy: 0.6790 - val_loss: 1.2460 - val_binary_accuracy: 0.4655 - lr: 4.0323e-05\n",
      "Epoch 28/40\n",
      "20/20 [==============================] - 25s 1s/step - loss: 0.5021 - binary_accuracy: 0.6898 - val_loss: 1.2002 - val_binary_accuracy: 0.4655 - lr: 3.6486e-05\n",
      "Epoch 29/40\n",
      "20/20 [==============================] - 21s 1s/step - loss: 0.5062 - binary_accuracy: 0.6794 - val_loss: 1.2065 - val_binary_accuracy: 0.4687 - lr: 3.3014e-05\n",
      "Epoch 30/40\n",
      "20/20 [==============================] - 26s 1s/step - loss: 0.5001 - binary_accuracy: 0.6850 - val_loss: 1.2255 - val_binary_accuracy: 0.4767 - lr: 2.9872e-05\n",
      "Epoch 31/40\n",
      "20/20 [==============================] - 22s 1s/step - loss: 0.5035 - binary_accuracy: 0.6818 - val_loss: 1.2346 - val_binary_accuracy: 0.4783 - lr: 2.7030e-05\n",
      "Epoch 32/40\n",
      "20/20 [==============================] - 24s 1s/step - loss: 0.5119 - binary_accuracy: 0.6734 - val_loss: 1.1907 - val_binary_accuracy: 0.4671 - lr: 2.4457e-05\n",
      "Epoch 33/40\n",
      "20/20 [==============================] - 22s 1s/step - loss: 0.5022 - binary_accuracy: 0.6930 - val_loss: 1.2281 - val_binary_accuracy: 0.4719 - lr: 2.2130e-05\n",
      "Epoch 34/40\n",
      "20/20 [==============================] - 24s 1s/step - loss: 0.4936 - binary_accuracy: 0.6930 - val_loss: 1.2995 - val_binary_accuracy: 0.4767 - lr: 2.0024e-05\n",
      "Epoch 35/40\n",
      "20/20 [==============================] - 25s 1s/step - loss: 0.5093 - binary_accuracy: 0.6770 - val_loss: 1.2989 - val_binary_accuracy: 0.4799 - lr: 1.8118e-05\n",
      "Epoch 36/40\n",
      "20/20 [==============================] - 22s 1s/step - loss: 0.5015 - binary_accuracy: 0.6818 - val_loss: 1.2955 - val_binary_accuracy: 0.4735 - lr: 1.6394e-05\n",
      "Epoch 37/40\n",
      "20/20 [==============================] - 25s 1s/step - loss: 0.5033 - binary_accuracy: 0.6806 - val_loss: 1.3189 - val_binary_accuracy: 0.4703 - lr: 1.4834e-05\n",
      "Epoch 38/40\n",
      "20/20 [==============================] - 21s 1s/step - loss: 0.4985 - binary_accuracy: 0.6866 - val_loss: 1.3038 - val_binary_accuracy: 0.4639 - lr: 1.3422e-05\n",
      "Epoch 39/40\n",
      "20/20 [==============================] - 26s 1s/step - loss: 0.4970 - binary_accuracy: 0.6914 - val_loss: 1.2746 - val_binary_accuracy: 0.4671 - lr: 1.2145e-05\n",
      "Epoch 40/40\n",
      "20/20 [==============================] - 21s 1s/step - loss: 0.5085 - binary_accuracy: 0.6717 - val_loss: 1.2842 - val_binary_accuracy: 0.4655 - lr: 1.0989e-05\n",
      "End in 984.233s.\n"
     ]
    }
   ],
   "source": [
    "start = time.time()\n",
    "print('Start to train...')\n",
    "history = model.fit(x = x_train, y = y_train, batch_size = 128, epochs = 40, \n",
    "             verbose = 1, callbacks = [Scheduler, model_ckpt], validation_split=0.2, \n",
    "             validation_data=None, shuffle=True, class_weight=None,\n",
    "             sample_weight=None, initial_epoch=0, steps_per_epoch=None,\n",
    "             validation_steps=None)\n",
    "end = time.time()\n",
    "print('End in {:.3f}s.'.format(end - start))"
   ]
  },
  {
   "cell_type": "code",
   "execution_count": 6,
   "metadata": {},
   "outputs": [
    {
     "data": {
      "image/png": "[encoded data removed]",
      "text/plain": [
       "<Figure size 576x432 with 1 Axes>"
      ]
     },
     "metadata": {
      "needs_background": "light"
     },
     "output_type": "display_data"
    },
    {
     "data": {
      "image/png": "[encoded data removed]",
      "text/plain": [
       "<Figure size 576x432 with 1 Axes>"
      ]
     },
     "metadata": {
      "needs_background": "light"
     },
     "output_type": "display_data"
    },
    {
     "data": {
      "image/png": "[encoded data removed]",
      "text/plain": [
       "<Figure size 720x432 with 1 Axes>"
      ]
     },
     "metadata": {
      "needs_background": "light"
     },
     "output_type": "display_data"
    }
   ],
   "source": [
    "train_val_plot(history, metric)"
   ]
  },
  {
   "cell_type": "markdown",
   "metadata": {},
   "source": [
    "# Evaluate model"
   ]
  },
  {
   "cell_type": "code",
   "execution_count": 7,
   "metadata": {},
   "outputs": [
    {
     "name": "stdout",
     "output_type": "stream",
     "text": [
      "              precision    recall  f1-score   support\n",
      "\n",
      "           0       0.46      0.34      0.39       273\n",
      "           1       0.49      0.62      0.55       278\n",
      "\n",
      "    accuracy                           0.48       551\n",
      "   macro avg       0.48      0.48      0.47       551\n",
      "weighted avg       0.48      0.48      0.47       551\n",
      "\n"
     ]
    }
   ],
   "source": [
    "# Load origin model\n",
    "y_true = y_test.reshape(-1)\n",
    "y_pred = np.round(model.predict(x_test).reshape(-1))\n",
    "\n",
    "print(classification_report(y_true, y_pred))"
   ]
  },
  {
   "cell_type": "code",
   "execution_count": 9,
   "metadata": {},
   "outputs": [
    {
     "name": "stdout",
     "output_type": "stream",
     "text": [
      "              precision    recall  f1-score   support\n",
      "\n",
      "           0       0.53      0.55      0.54       273\n",
      "           1       0.54      0.53      0.54       278\n",
      "\n",
      "    accuracy                           0.54       551\n",
      "   macro avg       0.54      0.54      0.54       551\n",
      "weighted avg       0.54      0.54      0.54       551\n",
      "\n"
     ]
    }
   ],
   "source": [
    "# Load best model\n",
    "best_model = Wavenet(time_step = 44, feature_num = 103, kernel_size = 5,\n",
    "                     num_blocks = 3, num_layers = 3, output_channel = 103, reg = 1e-2)\n",
    "optimizer = Adam(lr = 6e-4, beta_1 = 0.9, beta_2 = 0.999, epsilon = None, decay = 0.0, amsgrad = False)\n",
    "metric = 'binary_accuracy'\n",
    "best_model.compile(loss = 'binary_crossentropy', optimizer = optimizer, metrics = metric)\n",
    "best_model.load_weights('./Keras_model_ckpt/best_model.ckpt')\n",
    "\n",
    "y_pred = np.round(best_model.predict(x_test).reshape(-1))\n",
    "\n",
    "print(classification_report(y_true, y_pred))"
   ]
  },
  {
   "cell_type": "code",
   "execution_count": null,
   "metadata": {},
   "outputs": [],
   "source": [
    "model.save('./Keras_model_ckpt/best_model_acc61.ckpt')"
   ]
  },
  {
   "cell_type": "code",
   "execution_count": 29,
   "metadata": {},
   "outputs": [
    {
     "data": {
      "text/html": [
       "<div>\n",
       "<style scoped>\n",
       "    .dataframe tbody tr th:only-of-type {\n",
       "        vertical-align: middle;\n",
       "    }\n",
       "\n",
       "    .dataframe tbody tr th {\n",
       "        vertical-align: top;\n",
       "    }\n",
       "\n",
       "    .dataframe thead th {\n",
       "        text-align: right;\n",
       "    }\n",
       "</style>\n",
       "<table border=\"1\" class=\"dataframe\">\n",
       "  <thead>\n",
       "    <tr style=\"text-align: right;\">\n",
       "      <th></th>\n",
       "      <th>tx_dt</th>\n",
       "      <th>Pytorch_Wavenet_without_rolling_pred</th>\n",
       "      <th>Pytorch_Wavenet_rolling_pred</th>\n",
       "      <th>label</th>\n",
       "      <th>target_dt</th>\n",
       "      <th>Keras_Wavenet_without_rolling_pred</th>\n",
       "      <th>Keras_Wavenet_rolling_pred</th>\n",
       "    </tr>\n",
       "  </thead>\n",
       "  <tbody>\n",
       "    <tr>\n",
       "      <th>0</th>\n",
       "      <td>2017-11-30</td>\n",
       "      <td>1.0</td>\n",
       "      <td>1.0</td>\n",
       "      <td>1.0</td>\n",
       "      <td>2018-01-01</td>\n",
       "      <td>0.0</td>\n",
       "      <td>0.0</td>\n",
       "    </tr>\n",
       "    <tr>\n",
       "      <th>1</th>\n",
       "      <td>2017-12-01</td>\n",
       "      <td>1.0</td>\n",
       "      <td>1.0</td>\n",
       "      <td>1.0</td>\n",
       "      <td>2018-01-02</td>\n",
       "      <td>1.0</td>\n",
       "      <td>0.0</td>\n",
       "    </tr>\n",
       "    <tr>\n",
       "      <th>2</th>\n",
       "      <td>2017-12-04</td>\n",
       "      <td>0.0</td>\n",
       "      <td>1.0</td>\n",
       "      <td>1.0</td>\n",
       "      <td>2018-01-03</td>\n",
       "      <td>0.0</td>\n",
       "      <td>0.0</td>\n",
       "    </tr>\n",
       "    <tr>\n",
       "      <th>3</th>\n",
       "      <td>2017-12-05</td>\n",
       "      <td>1.0</td>\n",
       "      <td>1.0</td>\n",
       "      <td>1.0</td>\n",
       "      <td>2018-01-04</td>\n",
       "      <td>0.0</td>\n",
       "      <td>0.0</td>\n",
       "    </tr>\n",
       "    <tr>\n",
       "      <th>4</th>\n",
       "      <td>2017-12-06</td>\n",
       "      <td>0.0</td>\n",
       "      <td>1.0</td>\n",
       "      <td>1.0</td>\n",
       "      <td>2018-01-05</td>\n",
       "      <td>0.0</td>\n",
       "      <td>0.0</td>\n",
       "    </tr>\n",
       "    <tr>\n",
       "      <th>...</th>\n",
       "      <td>...</td>\n",
       "      <td>...</td>\n",
       "      <td>...</td>\n",
       "      <td>...</td>\n",
       "      <td>...</td>\n",
       "      <td>...</td>\n",
       "      <td>...</td>\n",
       "    </tr>\n",
       "    <tr>\n",
       "      <th>546</th>\n",
       "      <td>2020-01-15</td>\n",
       "      <td>0.0</td>\n",
       "      <td>0.0</td>\n",
       "      <td>0.0</td>\n",
       "      <td>2020-02-19</td>\n",
       "      <td>0.0</td>\n",
       "      <td>1.0</td>\n",
       "    </tr>\n",
       "    <tr>\n",
       "      <th>547</th>\n",
       "      <td>2020-01-16</td>\n",
       "      <td>1.0</td>\n",
       "      <td>0.0</td>\n",
       "      <td>0.0</td>\n",
       "      <td>2020-02-20</td>\n",
       "      <td>1.0</td>\n",
       "      <td>1.0</td>\n",
       "    </tr>\n",
       "    <tr>\n",
       "      <th>548</th>\n",
       "      <td>2020-01-17</td>\n",
       "      <td>1.0</td>\n",
       "      <td>1.0</td>\n",
       "      <td>0.0</td>\n",
       "      <td>2020-02-21</td>\n",
       "      <td>1.0</td>\n",
       "      <td>1.0</td>\n",
       "    </tr>\n",
       "    <tr>\n",
       "      <th>549</th>\n",
       "      <td>2020-01-20</td>\n",
       "      <td>1.0</td>\n",
       "      <td>0.0</td>\n",
       "      <td>0.0</td>\n",
       "      <td>2020-02-24</td>\n",
       "      <td>1.0</td>\n",
       "      <td>1.0</td>\n",
       "    </tr>\n",
       "    <tr>\n",
       "      <th>550</th>\n",
       "      <td>2020-01-21</td>\n",
       "      <td>0.0</td>\n",
       "      <td>1.0</td>\n",
       "      <td>0.0</td>\n",
       "      <td>2020-02-25</td>\n",
       "      <td>1.0</td>\n",
       "      <td>1.0</td>\n",
       "    </tr>\n",
       "  </tbody>\n",
       "</table>\n",
       "<p>551 rows × 7 columns</p>\n",
       "</div>"
      ],
      "text/plain": [
       "          tx_dt  Pytorch_Wavenet_without_rolling_pred  \\\n",
       "0    2017-11-30                                   1.0   \n",
       "1    2017-12-01                                   1.0   \n",
       "2    2017-12-04                                   0.0   \n",
       "3    2017-12-05                                   1.0   \n",
       "4    2017-12-06                                   0.0   \n",
       "..          ...                                   ...   \n",
       "546  2020-01-15                                   0.0   \n",
       "547  2020-01-16                                   1.0   \n",
       "548  2020-01-17                                   1.0   \n",
       "549  2020-01-20                                   1.0   \n",
       "550  2020-01-21                                   0.0   \n",
       "\n",
       "     Pytorch_Wavenet_rolling_pred  label   target_dt  \\\n",
       "0                             1.0    1.0  2018-01-01   \n",
       "1                             1.0    1.0  2018-01-02   \n",
       "2                             1.0    1.0  2018-01-03   \n",
       "3                             1.0    1.0  2018-01-04   \n",
       "4                             1.0    1.0  2018-01-05   \n",
       "..                            ...    ...         ...   \n",
       "546                           0.0    0.0  2020-02-19   \n",
       "547                           0.0    0.0  2020-02-20   \n",
       "548                           1.0    0.0  2020-02-21   \n",
       "549                           0.0    0.0  2020-02-24   \n",
       "550                           1.0    0.0  2020-02-25   \n",
       "\n",
       "     Keras_Wavenet_without_rolling_pred  Keras_Wavenet_rolling_pred  \n",
       "0                                   0.0                         0.0  \n",
       "1                                   1.0                         0.0  \n",
       "2                                   0.0                         0.0  \n",
       "3                                   0.0                         0.0  \n",
       "4                                   0.0                         0.0  \n",
       "..                                  ...                         ...  \n",
       "546                                 0.0                         1.0  \n",
       "547                                 1.0                         1.0  \n",
       "548                                 1.0                         1.0  \n",
       "549                                 1.0                         1.0  \n",
       "550                                 1.0                         1.0  \n",
       "\n",
       "[551 rows x 7 columns]"
      ]
     },
     "execution_count": 29,
     "metadata": {},
     "output_type": "execute_result"
    }
   ],
   "source": [
    "pd.read_csv('benchmark.csv')"
   ]
  },
  {
   "cell_type": "code",
   "execution_count": null,
   "metadata": {},
   "outputs": [],
   "source": []
  }
 ],
 "metadata": {
  "kernelspec": {
   "display_name": "Python 3",
   "language": "python",
   "name": "python3"
  },
  "language_info": {
   "codemirror_mode": {
    "name": "ipython",
    "version": 3
   },
   "file_extension": ".py",
   "mimetype": "text/x-python",
   "name": "python",
   "nbconvert_exporter": "python",
   "pygments_lexer": "ipython3",
   "version": "3.6.8"
  }
 },
 "nbformat": 4,
 "nbformat_minor": 4
}
