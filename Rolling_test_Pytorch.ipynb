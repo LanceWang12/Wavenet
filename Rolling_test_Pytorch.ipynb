{
 "cells": [
  {
   "cell_type": "code",
   "execution_count": 1,
   "metadata": {},
   "outputs": [],
   "source": [
    "import warnings\n",
    "warnings.filterwarnings(\"ignore\")\n",
    "from sklearn.metrics import classification_report\n",
    "import pandas as pd\n",
    "import numpy as np\n",
    "import glob\n",
    "import os"
   ]
  },
  {
   "cell_type": "markdown",
   "metadata": {},
   "source": [
    "# Pytorch"
   ]
  },
  {
   "cell_type": "code",
   "execution_count": 2,
   "metadata": {},
   "outputs": [],
   "source": [
    "import torch\n",
    "import torch.nn as nn\n",
    "import torch.optim as optim\n",
    "import torch.nn.functional as F\n",
    "from header.Pytorch.Wavenet_model import Wavenet\n",
    "from header.Pytorch.dataset import generate_data\n",
    "from header.Pytorch.train_and_test import rolling_testing#, testing"
   ]
  },
  {
   "cell_type": "markdown",
   "metadata": {},
   "source": [
    "# Read data"
   ]
  },
  {
   "cell_type": "code",
   "execution_count": 4,
   "metadata": {},
   "outputs": [],
   "source": [
    "# Read data\n",
    "lag = 44\n",
    "gap = 22\n",
    "check_period = 5\n",
    "check_size = 88\n",
    "\n",
    "df = pd.read_csv('./csv_dataset/data_prepro_0814.csv').dropna(axis = 0).reset_index(drop = True)\n",
    "model = torch.load('./Pytorch_model_ckpt/Wavenet.pkl')"
   ]
  },
  {
   "cell_type": "code",
   "execution_count": 5,
   "metadata": {},
   "outputs": [],
   "source": [
    "loss_func = nn.BCELoss()#nn.NLLLoss()\n",
    "optimizer = optim.AdamW(model.parameters(), lr=0.001, betas=(0.9, 0.999), eps=1e-08, weight_decay=0, amsgrad=False)\n",
    "scheduler = optim.lr_scheduler.StepLR(optimizer, step_size = 10, gamma=0.8, last_epoch=-1)\n",
    "\n",
    "data_info = {\n",
    "    'label': 'label', \n",
    "    'date': 'tmp_index_ts_value_20200430_henry.tx_dt',\n",
    "    'start': '2018-01-01',\n",
    "    'end': None\n",
    "}\n",
    "\n",
    "rolling_info = {\n",
    "    'lag': 44,\n",
    "    'gap': 22,\n",
    "    'check_period': 5,\n",
    "    'check_size': 88,\n",
    "    'sample': True,\n",
    "    'optimizer': optimizer,\n",
    "    'scheduler': scheduler,\n",
    "    'loss_func': loss_func\n",
    "}\n",
    "\n"
   ]
  },
  {
   "cell_type": "code",
   "execution_count": null,
   "metadata": {},
   "outputs": [],
   "source": [
    "ma_result = np.load('ma_result.npy')\n",
    "\n",
    "acc_history = rolling_testing(model = model, model_tag = 'dl', data = df, data_info = data_info,\n",
    "                              baseline = ma_result, rolling_info = rolling_info)\n",
    "\n",
    "mean, std = acc_history.mean(), acc_history.std()\n",
    "print('mean = {:.2f}, std = {:.2f}'.format(mean, std))"
   ]
  },
  {
   "cell_type": "code",
   "execution_count": null,
   "metadata": {},
   "outputs": [],
   "source": [
    "a, b = (1, 2)"
   ]
  },
  {
   "cell_type": "code",
   "execution_count": null,
   "metadata": {},
   "outputs": [],
   "source": [
    "a"
   ]
  },
  {
   "cell_type": "code",
   "execution_count": null,
   "metadata": {},
   "outputs": [],
   "source": []
  }
 ],
 "metadata": {
  "kernelspec": {
   "display_name": "Python 3",
   "language": "python",
   "name": "python3"
  },
  "language_info": {
   "codemirror_mode": {
    "name": "ipython",
    "version": 3
   },
   "file_extension": ".py",
   "mimetype": "text/x-python",
   "name": "python",
   "nbconvert_exporter": "python",
   "pygments_lexer": "ipython3",
   "version": "3.6.8"
  }
 },
 "nbformat": 4,
 "nbformat_minor": 4
}
